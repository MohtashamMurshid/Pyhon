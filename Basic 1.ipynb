{
 "cells": [
  {
   "cell_type": "code",
   "execution_count": 4,
   "id": "4ea3ba48-e03b-4644-bcb2-cf8f52f1d600",
   "metadata": {},
   "outputs": [
    {
     "name": "stdout",
     "output_type": "stream",
     "text": [
      "Hello world\n"
     ]
    }
   ],
   "source": [
    "print(\"Hello world\")"
   ]
  },
  {
   "cell_type": "code",
   "execution_count": 6,
   "id": "affde7c3-d119-4012-b6c2-5e86500d9b1c",
   "metadata": {},
   "outputs": [],
   "source": [
    "number = 1"
   ]
  },
  {
   "cell_type": "code",
   "execution_count": 8,
   "id": "9e5138bd-4436-4302-8975-18e8a955c411",
   "metadata": {},
   "outputs": [],
   "source": [
    "number +=1"
   ]
  },
  {
   "cell_type": "code",
   "execution_count": 10,
   "id": "887117fe-6d6a-4786-9f46-b1296a350610",
   "metadata": {},
   "outputs": [
    {
     "data": {
      "text/plain": [
       "2"
      ]
     },
     "execution_count": 10,
     "metadata": {},
     "output_type": "execute_result"
    }
   ],
   "source": [
    "number"
   ]
  },
  {
   "cell_type": "code",
   "execution_count": 12,
   "id": "0200cb9c-e2ca-4b83-9b35-9113b2d673a9",
   "metadata": {},
   "outputs": [],
   "source": [
    "number -=1"
   ]
  },
  {
   "cell_type": "code",
   "execution_count": 14,
   "id": "6ed1e7cb-2e29-45da-ab03-58cbbf037064",
   "metadata": {},
   "outputs": [
    {
     "data": {
      "text/plain": [
       "1"
      ]
     },
     "execution_count": 14,
     "metadata": {},
     "output_type": "execute_result"
    }
   ],
   "source": [
    "number"
   ]
  },
  {
   "cell_type": "code",
   "execution_count": 16,
   "id": "8fa673c5-1a22-4927-a6d3-9043cc9da7b8",
   "metadata": {},
   "outputs": [
    {
     "name": "stdout",
     "output_type": "stream",
     "text": [
      "1\n",
      "2\n",
      "3\n",
      "4\n"
     ]
    }
   ],
   "source": [
    "array = [1,2,3,4]\n",
    "\n",
    "for item in array:\n",
    "    print(item)"
   ]
  },
  {
   "cell_type": "code",
   "execution_count": 20,
   "id": "712bc83f-eecd-4ef3-937c-db18a2d132f7",
   "metadata": {},
   "outputs": [],
   "source": []
  },
  {
   "cell_type": "code",
   "execution_count": 42,
   "id": "e98c29ce-19ef-4476-8115-75e9a407c0a1",
   "metadata": {},
   "outputs": [
    {
     "name": "stdout",
     "output_type": "stream",
     "text": [
      "1\n",
      "2\n",
      "3\n",
      "4\n"
     ]
    },
    {
     "data": {
      "text/plain": [
       "10"
      ]
     },
     "execution_count": 42,
     "metadata": {},
     "output_type": "execute_result"
    }
   ],
   "source": [
    "array = [1,2,3,4]\n",
    "total = 0\n",
    "for item in array:\n",
    "    total += item \n",
    "    print (item)\n",
    "total"
   ]
  },
  {
   "cell_type": "code",
   "execution_count": 32,
   "id": "dfb7e909-5052-407d-b725-d9cb91c7713f",
   "metadata": {},
   "outputs": [
    {
     "name": "stdout",
     "output_type": "stream",
     "text": [
      "Ready to loop!\n",
      "\n",
      "Put more ice flake = 1 \n",
      "from ice block = [1, 2, 3, 4, 5] \n",
      "making frozen = 1\n",
      "\n",
      "There is 1 ice flakes frozen from an ice block\n",
      "Put more ice flake = 2 \n",
      "from ice block = [1, 2, 3, 4, 5] \n",
      "making frozen = 3\n",
      "\n",
      "There is 3 ice flakes frozen from an ice block\n",
      "Put more ice flake = 3 \n",
      "from ice block = [1, 2, 3, 4, 5] \n",
      "making frozen = 6\n",
      "\n",
      "There is 6 ice flakes frozen from an ice block\n",
      "Put more ice flake = 4 \n",
      "from ice block = [1, 2, 3, 4, 5] \n",
      "making frozen = 10\n",
      "\n",
      "There is 10 ice flakes frozen from an ice block\n",
      "Put more ice flake = 5 \n",
      "from ice block = [1, 2, 3, 4, 5] \n",
      "making frozen = 15\n",
      "\n",
      "There is 15 ice flakes frozen from an ice block\n"
     ]
    }
   ],
   "source": [
    "ice_block = [1, 2, 3, 4, 5]\n",
    "amount_frozen = 0\n",
    "print(\"Ready to loop!\", end = 2*'\\n')\n",
    "for ice_flake in ice_block:\n",
    "    amount_frozen += ice_flake\n",
    "    print(\"Put more ice flake =\", ice_flake,\n",
    "    \"\\nfrom ice block =\", ice_block,\n",
    "    \"\\nmaking frozen =\", amount_frozen,\n",
    "    end = '\\n\\n')\n",
    "    print(\"There is\", amount_frozen,\n",
    "    \"ice flakes frozen from an ice block\")"
   ]
  },
  {
   "cell_type": "code",
   "execution_count": 44,
   "id": "60bcd21c-d53d-4c61-872f-4e1b812223c0",
   "metadata": {},
   "outputs": [],
   "source": [
    "#odd or even"
   ]
  },
  {
   "cell_type": "code",
   "execution_count": 68,
   "id": "66f8680e-1d4e-4a37-83d2-6ec13a8cfaba",
   "metadata": {},
   "outputs": [
    {
     "name": "stdout",
     "output_type": "stream",
     "text": [
      "its a 10\n"
     ]
    }
   ],
   "source": [
    "number = 10.1\n",
    "\n",
    "if number % 2 == 0:\n",
    "    print(\"number is even\")\n",
    "\n",
    "elif number == 10.1:\n",
    "    print(\"its a 10\")\n",
    "\n",
    "else:\n",
    "    print(\"number is odd\")\n",
    "    \n"
   ]
  },
  {
   "cell_type": "code",
   "execution_count": 78,
   "id": "8ff35c2b-dad4-4f50-85dc-ebc93e6fcc74",
   "metadata": {},
   "outputs": [
    {
     "data": {
      "text/plain": [
       "[1, 2, 3, 5, 8, 13]"
      ]
     },
     "execution_count": 78,
     "metadata": {},
     "output_type": "execute_result"
    }
   ],
   "source": [
    "numbers = [1,2,3,5,8,13]\n",
    "numbers"
   ]
  },
  {
   "cell_type": "code",
   "execution_count": 80,
   "id": "b33cd74a-aabd-487b-9052-1157c6b5ce14",
   "metadata": {},
   "outputs": [],
   "source": [
    "#total of even and odd"
   ]
  },
  {
   "cell_type": "code",
   "execution_count": 84,
   "id": "27066f75-81d5-4d55-9552-8a45075ae051",
   "metadata": {},
   "outputs": [],
   "source": [
    "total_even = 0\n",
    "total_odd = 0\n",
    "\n",
    "for number in numbers:\n",
    "    if number % 2 == 0:\n",
    "        total_even += number\n",
    "\n",
    "    else :\n",
    "        total_odd += number\n"
   ]
  },
  {
   "cell_type": "code",
   "execution_count": 88,
   "id": "e22e5b77-d97f-47a3-95c8-1df659b36ed1",
   "metadata": {},
   "outputs": [
    {
     "data": {
      "text/plain": [
       "10"
      ]
     },
     "execution_count": 88,
     "metadata": {},
     "output_type": "execute_result"
    }
   ],
   "source": [
    "total_even "
   ]
  },
  {
   "cell_type": "code",
   "execution_count": 90,
   "id": "c2f33bf1-21c0-418a-b978-8d8facf18609",
   "metadata": {},
   "outputs": [
    {
     "data": {
      "text/plain": [
       "22"
      ]
     },
     "execution_count": 90,
     "metadata": {},
     "output_type": "execute_result"
    }
   ],
   "source": [
    "total_odd"
   ]
  },
  {
   "cell_type": "code",
   "execution_count": 92,
   "id": "b8f7060d-068b-4156-9f5c-2a9eae8b5634",
   "metadata": {},
   "outputs": [],
   "source": [
    "#How many seconds will you spend in this 3-days course? Each course day has 8 hours."
   ]
  },
  {
   "cell_type": "code",
   "execution_count": 99,
   "id": "b37cc061-b8f9-4961-876e-00e7a383eab6",
   "metadata": {},
   "outputs": [],
   "source": [
    "days = 3\n",
    "hours = 8\n",
    "total_hours = days * hours"
   ]
  },
  {
   "cell_type": "code",
   "execution_count": 101,
   "id": "aed30f17-fb8f-43f1-8170-0e14e2f46b3b",
   "metadata": {},
   "outputs": [
    {
     "data": {
      "text/plain": [
       "24"
      ]
     },
     "execution_count": 101,
     "metadata": {},
     "output_type": "execute_result"
    }
   ],
   "source": [
    "total_hours"
   ]
  },
  {
   "cell_type": "code",
   "execution_count": 103,
   "id": "272c49c3-f1bb-4d84-96b6-fee831156be5",
   "metadata": {},
   "outputs": [],
   "source": [
    "seconds = total_hours * 60 * 60"
   ]
  },
  {
   "cell_type": "code",
   "execution_count": 105,
   "id": "c50b9e25-b0e7-4769-b252-cc39427558aa",
   "metadata": {},
   "outputs": [
    {
     "data": {
      "text/plain": [
       "86400"
      ]
     },
     "execution_count": 105,
     "metadata": {},
     "output_type": "execute_result"
    }
   ],
   "source": [
    "seconds"
   ]
  },
  {
   "cell_type": "code",
   "execution_count": 107,
   "id": "6f0b4be5-f5ca-4b4e-a391-4577b4bbf221",
   "metadata": {},
   "outputs": [],
   "source": [
    "#How many groups can be made during teambuilding?\n",
    "#You are on a company team building event with a total of 57 people. The host of the day asks you\n",
    "#all to form groups of 6 people. How many groups will there be? And how many people will be\n",
    "#leftovers without a group?"
   ]
  },
  {
   "cell_type": "code",
   "execution_count": 113,
   "id": "225b3553-1e8a-4171-818a-579995401864",
   "metadata": {},
   "outputs": [],
   "source": [
    "people = 57\n",
    "team_number = 6\n",
    "\n",
    "leftover = people %team_number"
   ]
  },
  {
   "cell_type": "code",
   "execution_count": 115,
   "id": "3d16f768-4026-4542-9620-ebab81cf505d",
   "metadata": {},
   "outputs": [
    {
     "data": {
      "text/plain": [
       "3"
      ]
     },
     "execution_count": 115,
     "metadata": {},
     "output_type": "execute_result"
    }
   ],
   "source": [
    "leftover"
   ]
  },
  {
   "cell_type": "code",
   "execution_count": 117,
   "id": "20d45a7a-e9ad-4220-9092-b7a80af8202b",
   "metadata": {},
   "outputs": [],
   "source": [
    "name = 'ali'\n",
    "age = 31"
   ]
  },
  {
   "cell_type": "code",
   "execution_count": 121,
   "id": "dbfa9ef4-1eb8-4c07-991a-6e6846e9fe1e",
   "metadata": {},
   "outputs": [
    {
     "name": "stdout",
     "output_type": "stream",
     "text": [
      "\n"
     ]
    },
    {
     "data": {
      "text/plain": [
       "'Name: Jeremy, Age: Jeremy'"
      ]
     },
     "execution_count": 121,
     "metadata": {},
     "output_type": "execute_result"
    }
   ],
   "source": [
    "\n",
    "print(\n",
    ")\n",
    "\"Name: {}, Age: {}\".format(age, \"Jeremy\")\n",
    "\"Name: {1}, Age: {0}\".format(age, \"Jeremy\")\n",
    "\"Name: {1}, Age: {1}\".format(age, \"Jeremy\")\n",
    "## We'll cover indexing convention properly later"
   ]
  },
  {
   "cell_type": "code",
   "execution_count": 123,
   "id": "1e57ad44-cd11-426e-9e3f-ee8fd487d5dd",
   "metadata": {},
   "outputs": [],
   "source": [
    "#indexing string "
   ]
  },
  {
   "cell_type": "code",
   "execution_count": 125,
   "id": "eba4980f-f826-45be-899c-1a86d23c32ef",
   "metadata": {},
   "outputs": [
    {
     "name": "stdout",
     "output_type": "stream",
     "text": [
      "P\n",
      "n\n"
     ]
    }
   ],
   "source": [
    "text = 'Python'\n",
    "print(text[0])\n",
    "print(text[-1])"
   ]
  },
  {
   "cell_type": "code",
   "execution_count": 131,
   "id": "ea400ea3-f6f2-4c7d-a507-479bd8322aad",
   "metadata": {},
   "outputs": [
    {
     "name": "stdout",
     "output_type": "stream",
     "text": [
      "yes\n"
     ]
    }
   ],
   "source": [
    "if \"yth\" in text:\n",
    "    print(\"yes\")"
   ]
  },
  {
   "cell_type": "code",
   "execution_count": 139,
   "id": "5a06bb68-2dc6-4cfb-ba49-e1ed4482a8ee",
   "metadata": {},
   "outputs": [
    {
     "name": "stdout",
     "output_type": "stream",
     "text": [
      "True\n",
      "False\n",
      "False\n"
     ]
    }
   ],
   "source": [
    "print (True & True)\n",
    "print (True & False)\n",
    "print (False & True)"
   ]
  },
  {
   "cell_type": "code",
   "execution_count": 141,
   "id": "bb0fc681-b1b4-41e5-9792-31e3928a077d",
   "metadata": {},
   "outputs": [
    {
     "name": "stdout",
     "output_type": "stream",
     "text": [
      "True\n",
      "True\n",
      "True\n"
     ]
    }
   ],
   "source": [
    "print (True | True)\n",
    "print (True | False)\n",
    "print (False | True)"
   ]
  },
  {
   "cell_type": "code",
   "execution_count": 148,
   "id": "41606b74-9eef-4d6d-9525-2f0967f7732f",
   "metadata": {},
   "outputs": [],
   "source": [
    "#list and tuples"
   ]
  },
  {
   "cell_type": "code",
   "execution_count": 150,
   "id": "8a46232a-a56a-461a-83d3-b3f94095df00",
   "metadata": {},
   "outputs": [],
   "source": [
    "numbers = [1,2,3,4]"
   ]
  },
  {
   "cell_type": "code",
   "execution_count": 158,
   "id": "da5f0935-f1df-4407-b24f-31c7201fe952",
   "metadata": {},
   "outputs": [],
   "source": [
    "t_numbers = (1,2,3,4)"
   ]
  },
  {
   "cell_type": "code",
   "execution_count": 160,
   "id": "3b80007c-3271-4605-9eab-81168d10fac8",
   "metadata": {},
   "outputs": [
    {
     "data": {
      "text/plain": [
       "tuple"
      ]
     },
     "execution_count": 160,
     "metadata": {},
     "output_type": "execute_result"
    }
   ],
   "source": [
    "type(t_numbers)"
   ]
  },
  {
   "cell_type": "code",
   "execution_count": 162,
   "id": "e75c7dc5-0f95-4a14-9170-630a5667525e",
   "metadata": {},
   "outputs": [],
   "source": [
    "#A dictionary is a collection of key-value pairs. It is used to look up things and a very common used type."
   ]
  },
  {
   "cell_type": "code",
   "execution_count": 167,
   "id": "89439b73-9a09-4d5b-96f9-6c3d41925272",
   "metadata": {},
   "outputs": [],
   "source": [
    "person = {\n",
    "    \"name\":\"Mohtasham\",\n",
    "    \"Age\" : 18,\n",
    "    \"Male\" : True,}"
   ]
  },
  {
   "cell_type": "code",
   "execution_count": 169,
   "id": "13a74085-98eb-4145-9109-f188fc3d6416",
   "metadata": {},
   "outputs": [
    {
     "data": {
      "text/plain": [
       "dict"
      ]
     },
     "execution_count": 169,
     "metadata": {},
     "output_type": "execute_result"
    }
   ],
   "source": [
    "type(person)"
   ]
  },
  {
   "cell_type": "code",
   "execution_count": 171,
   "id": "0d1e9bd8-8b4c-4fb4-a8ec-9661361611f8",
   "metadata": {},
   "outputs": [
    {
     "data": {
      "text/plain": [
       "dict_values(['Mohtasham', 18, True])"
      ]
     },
     "execution_count": 171,
     "metadata": {},
     "output_type": "execute_result"
    }
   ],
   "source": [
    "person.values()"
   ]
  },
  {
   "cell_type": "code",
   "execution_count": 173,
   "id": "f3ad2da7-6b0c-4512-9d1f-8480949b9136",
   "metadata": {},
   "outputs": [
    {
     "data": {
      "text/plain": [
       "dict_keys(['name', 'Age', 'Male'])"
      ]
     },
     "execution_count": 173,
     "metadata": {},
     "output_type": "execute_result"
    }
   ],
   "source": [
    "person.keys()"
   ]
  },
  {
   "cell_type": "code",
   "execution_count": 175,
   "id": "579d0949-2922-4ecd-87fa-95a5e2d5f8d2",
   "metadata": {},
   "outputs": [
    {
     "name": "stdout",
     "output_type": "stream",
     "text": [
      "dict_values(['Mohtasham', 18, True])\n",
      "dict_values(['Mohtasham', 18, True])\n",
      "dict_values(['Mohtasham', 18, True])\n"
     ]
    }
   ],
   "source": [
    "for values in person:\n",
    "    print(person.values())"
   ]
  },
  {
   "cell_type": "code",
   "execution_count": 183,
   "id": "08ba861b-0be6-4728-af24-8e972b2f5689",
   "metadata": {},
   "outputs": [],
   "source": [
    "def object_info(obj):\n",
    "    print(\"Value: {}, Type: {}, Id: {}\".format(obj, type(obj), id(obj)))"
   ]
  },
  {
   "cell_type": "code",
   "execution_count": 185,
   "id": "6bea4820-fe42-45de-944b-33a0467166ad",
   "metadata": {},
   "outputs": [
    {
     "name": "stdout",
     "output_type": "stream",
     "text": [
      "Value: {'name': 'Mohtasham', 'Age': 18, 'Male': True}, Type: <class 'dict'>, Id: 5289741184\n"
     ]
    }
   ],
   "source": [
    "object_info(person)"
   ]
  },
  {
   "cell_type": "code",
   "execution_count": 209,
   "id": "d080bb84-9377-4b7a-a0f7-984aaece6f67",
   "metadata": {},
   "outputs": [],
   "source": [
    "def weekend(day):\n",
    "    if day == \"Saturday\" or day == \"Sunday\":\n",
    "        print(\"weekend\")\n",
    "    else:\n",
    "        print(\"not weekend\")"
   ]
  },
  {
   "cell_type": "code",
   "execution_count": 211,
   "id": "01a023e4-c555-4c90-9a5a-79f010b6bf57",
   "metadata": {},
   "outputs": [
    {
     "name": "stdout",
     "output_type": "stream",
     "text": [
      "not weekend\n"
     ]
    }
   ],
   "source": [
    "weekend(\"Friday\")"
   ]
  },
  {
   "cell_type": "code",
   "execution_count": 213,
   "id": "14279be2-844e-4947-b2f2-d8ca29a8a6af",
   "metadata": {},
   "outputs": [],
   "source": [
    "#while loop runs until the consdition is true"
   ]
  },
  {
   "cell_type": "code",
   "execution_count": 217,
   "id": "fd6aa76b-2d5d-4b47-af1f-64abf9ff9697",
   "metadata": {},
   "outputs": [
    {
     "name": "stdout",
     "output_type": "stream",
     "text": [
      "1\n",
      "2\n",
      "3\n",
      "4\n",
      "5\n",
      "6\n",
      "7\n",
      "8\n",
      "9\n",
      "10\n"
     ]
    }
   ],
   "source": [
    "number = 0\n",
    "while 10 > number:\n",
    "    number+=1\n",
    "    print (number)"
   ]
  },
  {
   "cell_type": "code",
   "execution_count": 221,
   "id": "bff7c293-80bc-4430-a20a-7e25bfc4c4f5",
   "metadata": {},
   "outputs": [
    {
     "name": "stdin",
     "output_type": "stream",
     "text": [
      " 40\n",
      " 10\n"
     ]
    },
    {
     "name": "stdout",
     "output_type": "stream",
     "text": [
      "total: 50 x: 10\n"
     ]
    }
   ],
   "source": [
    "total = 0\n",
    "while total < 50:\n",
    "    x = int(input())\n",
    "    total += x\n",
    "print(\"total:\", total, \"x:\", x)"
   ]
  },
  {
   "cell_type": "code",
   "execution_count": 235,
   "id": "64168663-4e8e-43cc-b283-314be1524aa8",
   "metadata": {},
   "outputs": [
    {
     "name": "stdin",
     "output_type": "stream",
     "text": [
      " 4\n"
     ]
    }
   ],
   "source": [
    "x = input()"
   ]
  },
  {
   "cell_type": "code",
   "execution_count": null,
   "id": "b843cc7e-509a-41ac-a2ac-caca1fc44d86",
   "metadata": {},
   "outputs": [],
   "source": []
  },
  {
   "cell_type": "code",
   "execution_count": 238,
   "id": "27526a30-78ae-4457-acb0-65932ffaffb1",
   "metadata": {},
   "outputs": [],
   "source": [
    "items = [\"banana\", \"orange\", \"apple\"]"
   ]
  },
  {
   "cell_type": "code",
   "execution_count": 242,
   "id": "aff81788-67bb-4518-b592-36d42ae5b2db",
   "metadata": {},
   "outputs": [
    {
     "data": {
      "text/plain": [
       "[(0, 'banana'), (1, 'orange'), (2, 'apple')]"
      ]
     },
     "execution_count": 242,
     "metadata": {},
     "output_type": "execute_result"
    }
   ],
   "source": [
    "list(enumerate(items))"
   ]
  },
  {
   "cell_type": "code",
   "execution_count": 254,
   "id": "26a4e6d0-f011-4a8d-9ead-075af839f911",
   "metadata": {},
   "outputs": [],
   "source": [
    "months = [\"January\", \"February\", \"March\", \"April\", \"May\", \"June\", \"July\",\n",
    "\"August\", \"September\", \"October\", \"November\", \"December\"]\n",
    "days = [31, 28, 31, 30, 31, 30, 31, 31, 30, 31, 30, 31]\n",
    "\n",
    "\n"
   ]
  },
  {
   "cell_type": "code",
   "execution_count": 256,
   "id": "c1d36785-be36-465f-acb9-5b503983cb24",
   "metadata": {},
   "outputs": [
    {
     "data": {
      "text/plain": [
       "{'December': 31}"
      ]
     },
     "execution_count": 256,
     "metadata": {},
     "output_type": "execute_result"
    }
   ],
   "source": [
    "month_d"
   ]
  },
  {
   "cell_type": "code",
   "execution_count": 258,
   "id": "39353ede-8e0f-40a6-bce9-093e44571f28",
   "metadata": {},
   "outputs": [
    {
     "name": "stdout",
     "output_type": "stream",
     "text": [
      "{'January': 31, 'February': 28, 'March': 31, 'April': 30, 'May': 31, 'June': 30, 'July': 31, 'August': 31, 'September': 30, 'October': 31, 'November': 30, 'December': 31}\n"
     ]
    }
   ],
   "source": [
    "month_days = {month: day for month, day in zip(months, days)}\n",
    "\n",
    "print(month_days)"
   ]
  },
  {
   "cell_type": "code",
   "execution_count": 266,
   "id": "54bce78b-5bcf-492c-bf2a-aef71d605fa2",
   "metadata": {},
   "outputs": [],
   "source": [
    "def month_day(month):\n",
    "    if month in month_days.values():\n",
    "        print (monthdays.key())\n",
    "\n",
    "month_day('January')\n"
   ]
  },
  {
   "cell_type": "code",
   "execution_count": 272,
   "id": "752b595f-bdc1-46df-a43d-c0983cfb6c9b",
   "metadata": {},
   "outputs": [
    {
     "name": "stdout",
     "output_type": "stream",
     "text": [
      "January has 31 days.\n",
      "February has 28 days.\n"
     ]
    }
   ],
   "source": [
    "def month_day(month):\n",
    "    if month in month_days:  # Check if the month is in the dictionary keys\n",
    "        print(f\"{month} has {month_days[month]} days.\")\n",
    "    else:\n",
    "        print(\"Invalid month name.\")\n",
    "\n",
    "# Test the function\n",
    "month_day('January')\n",
    "month_day(\"February\")"
   ]
  },
  {
   "cell_type": "code",
   "execution_count": 276,
   "id": "4b28cfb3-07d5-46f6-87ec-bceefd19635e",
   "metadata": {},
   "outputs": [
    {
     "data": {
      "text/plain": [
       "1.5"
      ]
     },
     "execution_count": 276,
     "metadata": {},
     "output_type": "execute_result"
    }
   ],
   "source": [
    "prices = {\"apple\": 1.5, \"orange\": 3.25}\n",
    "prices[\"apple\"]\n"
   ]
  },
  {
   "cell_type": "code",
   "execution_count": 278,
   "id": "a67e8d82-9226-42ba-8b14-820e02771c23",
   "metadata": {},
   "outputs": [],
   "source": [
    "copy_prices = prices.copy()"
   ]
  },
  {
   "cell_type": "code",
   "execution_count": 282,
   "id": "1d716619-f92a-403b-98da-ec51ef98ce27",
   "metadata": {},
   "outputs": [
    {
     "data": {
      "text/plain": [
       "{'apple': 1.5, 'orange': 3.25}"
      ]
     },
     "execution_count": 282,
     "metadata": {},
     "output_type": "execute_result"
    }
   ],
   "source": [
    "copy_prices"
   ]
  },
  {
   "cell_type": "code",
   "execution_count": null,
   "id": "e0db6893-ec51-4586-bcab-919413940343",
   "metadata": {},
   "outputs": [],
   "source": []
  },
  {
   "cell_type": "code",
   "execution_count": null,
   "id": "7de29207-5cf1-42c2-81d2-96787483662e",
   "metadata": {},
   "outputs": [],
   "source": []
  }
 ],
 "metadata": {
  "kernelspec": {
   "display_name": "Python 3 (ipykernel)",
   "language": "python",
   "name": "python3"
  },
  "language_info": {
   "codemirror_mode": {
    "name": "ipython",
    "version": 3
   },
   "file_extension": ".py",
   "mimetype": "text/x-python",
   "name": "python",
   "nbconvert_exporter": "python",
   "pygments_lexer": "ipython3",
   "version": "3.12.7"
  }
 },
 "nbformat": 4,
 "nbformat_minor": 5
}
